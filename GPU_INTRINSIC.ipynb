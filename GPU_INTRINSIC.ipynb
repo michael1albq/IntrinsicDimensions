{
 "cells": [
  {
   "cell_type": "code",
   "execution_count": 91,
   "metadata": {
    "collapsed": true
   },
   "outputs": [],
   "source": [
    "import random\n",
    "import numpy as np \n",
    "\n",
    "def sample_line(n, p):\n",
    "    \n",
    "    dir_vec = np.random.randn(3) ;\n",
    "    line_point = p ;\n",
    "    parameter = np.transpose(np.random.randn(n)[np.newaxis]) ;\n",
    "    line_points = line_point + parameter*dir_vec ;\n",
    "    \n",
    "      \n",
    "    return line_points"
   ]
  },
  {
   "cell_type": "code",
   "execution_count": 92,
   "metadata": {
    "collapsed": true
   },
   "outputs": [],
   "source": [
    "import numpy as np\n",
    "\n",
    "#Outputs n sample points from a random plane and m sample points from a line intersecting said random plane.\n",
    "def plane_line(n, m) :\n",
    "    sample_p = sample_plane(n)\n",
    "    \n",
    "    #Construct a random line through point sample_p[0]\n",
    "    line_point = sample_p[0] \n",
    "    dir_vec = np.random.randn(3) \n",
    "    parameter = np.transpose(np.random.random(m)[np.newaxis])\n",
    "    sample_l = line_point + parameter*dir_vec\n",
    "    \n",
    "    \n",
    "    #The first element is an array of the n sample points from the plane.\n",
    "    #The second element is an array of the m sample points from the line.\n",
    "    return [sample_p, sample_l]"
   ]
  },
  {
   "cell_type": "code",
   "execution_count": 93,
   "metadata": {
    "collapsed": true
   },
   "outputs": [],
   "source": [
    "import numpy as np \n",
    "\n",
    "# Outputs n sample points from a random plane in R^3 as a matrix of the form nx3.\n",
    "def sample_plane(n):\n",
    "    \n",
    "    normal_vec = 2*(np.random.random(3)-1/2)\n",
    "    point_plane = 2*(np.random.random(3)-1/2) \n",
    "    plane_points = [] \n",
    "    \n",
    "    #Points on the plane must satisfy the equation (n1,n2,n3).(x-p1, y-p2, z-p3) = 0, where . operation \n",
    "    #represents the dot product and (n1,n2,n3) is the normal vector and (p1,p2,p3) is a point on the plane.\n",
    "    #We randomly sample for x and y and solve for z using the above equation. \n",
    "    for int in range(n) :\n",
    "        sample_2coord = 2*(np.random.random(2)-1/2) \n",
    "        last_coord = sample_2coord - point_plane[0:2] \n",
    "        last_coord = -(np.dot(normal_vec[0:2], last_coord)-\n",
    "                       normal_vec[2]*point_plane[2])/normal_vec[2] \n",
    "        sample_2coord = np.append(sample_2coord, last_coord) \n",
    "        plane_points = np.append(plane_points,sample_2coord)\n",
    "   \n",
    "    plane_points = np.reshape(plane_points, (n,3))\n",
    "    \n",
    "         \n",
    "    return plane_points"
   ]
  },
  {
   "cell_type": "code",
   "execution_count": 94,
   "metadata": {
    "collapsed": true
   },
   "outputs": [],
   "source": [
    "import numpy as np\n",
    "\n",
    "\n",
    "def sample_sphere(n, c):\n",
    "    \"\"\"\n",
    "    Outputs sample points from a random sphere in R^3 centered at c as a matrix \n",
    "    of the form nx3\n",
    "    :param n: No. of points to be sampled\n",
    "    :param c: Vector - Coordinates for center of sphere [x,y,z]\n",
    "    :return: Coordinates of the n points on the sphere [x,y,z]\n",
    "    Note: We use the last construction found in http://mathworld.wolfram.com/SpherePointPicking.html\n",
    "    \"\"\"\n",
    "    vec = 2*(np.random.random((3, n))-1/2)\n",
    "    vec /= np.linalg.norm(vec, axis=0)\n",
    "    recenter = np.repeat(c, n)\n",
    "    recenter = np.reshape(recenter, (3, n))\n",
    "    vec = vec + recenter\n",
    "    x=np.transpose(vec)\n",
    "    \n",
    "    \n",
    "    return x"
   ]
  },
  {
   "cell_type": "code",
   "execution_count": 95,
   "metadata": {
    "collapsed": true
   },
   "outputs": [],
   "source": [
    "import numpy as np\n",
    "from numpy import linalg as LA\n",
    "#import sample_sphere as ss\n",
    "#from sample_sphere import *\n",
    "\n",
    "def plane_sphere(n, c, m) :\n",
    "    \"\"\"\n",
    "    Constructs n sample points from a unit sphere centered at c and\n",
    "    m sample points from a plane which intersects the unit sphere.\n",
    "    If there are any k points from the m sample points that is contained\n",
    "    in the unit sphere, we remove them and outputs only the m-k sample points.\n",
    "    i.e. we do not produce any sample points inside the unit sphere. \n",
    "    \"\"\"\n",
    "    sphere = sample_sphere(n, c) \n",
    "    \n",
    "    #We construct the plane containing the first 3 sample points \n",
    "    #sample_s[0:3] on the sphere. \n",
    "    plane_points = sphere[0:3]\n",
    "    #Finding the normal vector\n",
    "    vec1 = plane_points[1]-plane_points[0] \n",
    "    vec2 = plane_points[2]-plane_points[0] \n",
    "    #Normal vector \n",
    "    normal_vec = np.cross(vec1, vec2) \n",
    "    \n",
    "    #Points on the plane must satisfy the equation \n",
    "    #(n1,n2,n3).(x-p1, y-p2, z-p3) = 0, where . operation \n",
    "    #represents the dot product and (n1,n2,n3) is the normal vector and \n",
    "    #(p1,p2,p3) is a point on the plane (we call it p0 in the code below).\n",
    "    #We randomly sample for x and y and solve for z using the above equation. \n",
    "    p0=plane_points[0]\n",
    "    for int in range(m) :\n",
    "        sample_coord = 2*(np.random.random(2)-1/2) \n",
    "        first_coords = sample_coord - p0[0:2]\n",
    "        last_coord = -(np.dot(normal_vec[0:2], first_coords)-\n",
    "                       normal_vec[2]*p0[2])/normal_vec[2] \n",
    "        sample_coord = np.append(sample_coord, last_coord) \n",
    "        plane_points = np.append(plane_points,sample_coord)\n",
    "    \n",
    "    plane_points = np.reshape(plane_points, (m+3,3))\n",
    "    \n",
    "    #We remove any points on the plane that is inside the unit sphere.\n",
    "    relevant_points = []\n",
    "    for i in range(m+3) :\n",
    "        if LA.norm(plane_points[i]-c)>=1 :\n",
    "            relevant_points = np.append(relevant_points, plane_points[i])\n",
    "        \n",
    "    relevant_points =np.reshape(relevant_points, (-1,3))\n",
    "    \n",
    "\n",
    "    \n",
    "    return [sphere, relevant_points]"
   ]
  },
  {
   "cell_type": "code",
   "execution_count": 96,
   "metadata": {
    "collapsed": true
   },
   "outputs": [],
   "source": [
    "import numpy as np\n",
    "from numpy import linalg as LA\n",
    "def line_plane_sphere(k, n, c, m) :\n",
    "    \n",
    "    ps = plane_sphere(n, c, m) \n",
    "    plane = ps[0] \n",
    "    sphere = ps[1] \n",
    "    #combin_ps = np.reshape(np.append(sphere, plane), (-1,3)) \n",
    "    plane_tup = list(tuple(row) for row in plane)\n",
    "    sphere_tup = list(tuple(row) for row in sphere)\n",
    "    intersection = np.array([list(item) for item in \n",
    "                    set(plane_tup).intersection(sphere_tup)]) \n",
    "    if len(intersection) == 0 :\n",
    "        return [\"intersection empty\", intersection]\n",
    "    line = sample_line(k, intersection[0])\n",
    "    \n",
    "    #We remove any points on the plane that is inside the unit sphere.\n",
    "    rel_line_pts = []\n",
    "    for i in range(k) :\n",
    "        if LA.norm(line[i]-c)>=1 :\n",
    "            rel_line_pts = np.append(rel_line_pts, line[i])\n",
    "        \n",
    "    rel_line_pts =np.reshape(rel_line_pts, (-1,3))\n",
    "    \n",
    "    \n",
    "    return rel_line_pts, plane, sphere"
   ]
  },
  {
   "cell_type": "code",
   "execution_count": 97,
   "metadata": {
    "collapsed": true
   },
   "outputs": [],
   "source": [
    "line,plane,sphere = line_plane_sphere(50, 500, [0,0,0], 500)"
   ]
  },
  {
   "cell_type": "code",
   "execution_count": 98,
   "metadata": {
    "collapsed": true,
    "scrolled": true
   },
   "outputs": [],
   "source": [
    "# line = tf.convert_to_tensor(line)\n",
    "\n",
    "sphere_plane=np.concatenate((sphere, plane), axis=0)"
   ]
  },
  {
   "cell_type": "code",
   "execution_count": 88,
   "metadata": {},
   "outputs": [
    {
     "data": {
      "text/plain": [
       "<tf.Tensor 'Const_15:0' shape=(500, 3) dtype=float64>"
      ]
     },
     "execution_count": 88,
     "metadata": {},
     "output_type": "execute_result"
    }
   ],
   "source": [
    "plane"
   ]
  },
  {
   "cell_type": "code",
   "execution_count": 78,
   "metadata": {},
   "outputs": [
    {
     "data": {
      "text/plain": [
       "<tf.Tensor 'concat:0' shape=(794, 3) dtype=float64>"
      ]
     },
     "execution_count": 78,
     "metadata": {},
     "output_type": "execute_result"
    }
   ],
   "source": [
    "plane_sphere"
   ]
  },
  {
   "cell_type": "code",
   "execution_count": null,
   "metadata": {
    "collapsed": true
   },
   "outputs": [],
   "source": []
  },
  {
   "cell_type": "code",
   "execution_count": 1,
   "metadata": {
    "collapsed": true
   },
   "outputs": [],
   "source": [
    "import tensorflow as tf"
   ]
  },
  {
   "cell_type": "code",
   "execution_count": 2,
   "metadata": {
    "collapsed": true
   },
   "outputs": [],
   "source": [
    "hello = tf.constant('Hello, TensorFlow!')"
   ]
  },
  {
   "cell_type": "code",
   "execution_count": 3,
   "metadata": {
    "collapsed": true
   },
   "outputs": [],
   "source": [
    "sess = tf.Session()"
   ]
  },
  {
   "cell_type": "code",
   "execution_count": 4,
   "metadata": {
    "scrolled": true
   },
   "outputs": [
    {
     "name": "stdout",
     "output_type": "stream",
     "text": [
      "b'Hello, TensorFlow!'\n"
     ]
    }
   ],
   "source": [
    "print(sess.run(hello))"
   ]
  },
  {
   "cell_type": "code",
   "execution_count": 28,
   "metadata": {
    "collapsed": true
   },
   "outputs": [],
   "source": [
    "import numpy as np"
   ]
  },
  {
   "cell_type": "code",
   "execution_count": 14,
   "metadata": {
    "collapsed": true
   },
   "outputs": [],
   "source": [
    "a = tf.constant(np.arange(1, 13, dtype=np.int32),\n",
    "                shape=[50, 2, 3])"
   ]
  },
  {
   "cell_type": "code",
   "execution_count": 15,
   "metadata": {
    "collapsed": true
   },
   "outputs": [],
   "source": [
    "b = tf.constant(np.arange(13, 25, dtype=np.int32),\n",
    "                shape=[50, 3, 2])"
   ]
  },
  {
   "cell_type": "code",
   "execution_count": 16,
   "metadata": {
    "collapsed": true
   },
   "outputs": [],
   "source": [
    "c = tf.matmul(a, b)"
   ]
  },
  {
   "cell_type": "code",
   "execution_count": 22,
   "metadata": {},
   "outputs": [
    {
     "data": {
      "text/plain": [
       "<tf.Tensor 'strided_slice_3:0' shape=(2, 2, 2) dtype=int32>"
      ]
     },
     "execution_count": 22,
     "metadata": {},
     "output_type": "execute_result"
    }
   ],
   "source": [
    "c[:2]"
   ]
  },
  {
   "cell_type": "code",
   "execution_count": 17,
   "metadata": {},
   "outputs": [
    {
     "name": "stdout",
     "output_type": "stream",
     "text": [
      "Tensor(\"Const_5:0\", shape=(), dtype=float32) Tensor(\"Const_6:0\", shape=(), dtype=float32)\n"
     ]
    }
   ],
   "source": [
    "node1 = tf.constant(3.0, dtype=tf.float32)\n",
    "node2 = tf.constant(4.0) # also tf.float32 implicitly\n",
    "print(node1, node2)"
   ]
  },
  {
   "cell_type": "code",
   "execution_count": 31,
   "metadata": {
    "collapsed": true
   },
   "outputs": [],
   "source": [
    "a = tf.constant([1, 2, 3, 4, 5, 6], shape=[2, 3],dtype=tf.float32)"
   ]
  },
  {
   "cell_type": "code",
   "execution_count": 32,
   "metadata": {
    "collapsed": true
   },
   "outputs": [],
   "source": [
    "b = tf.constant([7, 8, 9, 10, 11, 12], shape=[3, 2],dtype=tf.float32)"
   ]
  },
  {
   "cell_type": "code",
   "execution_count": 129,
   "metadata": {
    "collapsed": true
   },
   "outputs": [],
   "source": [
    "c = tf.matmul(a, b) "
   ]
  },
  {
   "cell_type": "code",
   "execution_count": 130,
   "metadata": {},
   "outputs": [
    {
     "data": {
      "text/plain": [
       "<tf.Tensor 'Print_1:0' shape=(2, 2) dtype=float32>"
      ]
     },
     "execution_count": 130,
     "metadata": {},
     "output_type": "execute_result"
    }
   ],
   "source": [
    "c.get_shape()\n",
    "tf.Print(c, [c], message=\"This is a: \")"
   ]
  },
  {
   "cell_type": "code",
   "execution_count": 34,
   "metadata": {
    "collapsed": true
   },
   "outputs": [],
   "source": [
    "s, u, v =tf.svd(c)\n",
    "# s = svd(a, compute_uv=False)"
   ]
  },
  {
   "cell_type": "code",
   "execution_count": 35,
   "metadata": {
    "scrolled": true
   },
   "outputs": [
    {
     "data": {
      "text/plain": [
       "<tf.Tensor 'Svd_2:0' shape=(2,) dtype=float32>"
      ]
     },
     "execution_count": 35,
     "metadata": {},
     "output_type": "execute_result"
    }
   ],
   "source": [
    "s"
   ]
  },
  {
   "cell_type": "code",
   "execution_count": 18,
   "metadata": {},
   "outputs": [
    {
     "name": "stdout",
     "output_type": "stream",
     "text": [
      "[3.0, 4.0]\n"
     ]
    }
   ],
   "source": [
    "sess = tf.Session()\n",
    "print(sess.run([node1, node2]))"
   ]
  },
  {
   "cell_type": "code",
   "execution_count": 150,
   "metadata": {
    "collapsed": true
   },
   "outputs": [],
   "source": [
    "k=0.95\n",
    "num=5\n",
    "rads = [(1/2.)**(i) for i in range(num)]"
   ]
  },
  {
   "cell_type": "code",
   "execution_count": 151,
   "metadata": {
    "collapsed": true
   },
   "outputs": [],
   "source": [
    "import numpy as np\n",
    "import scipy.spatial as spatial\n",
    "def neighborhood(data, point, rad) :\n",
    "    coord_set = list(tuple(row) for row in data)\n",
    "    tree = spatial.cKDTree(coord_set)\n",
    "    \n",
    "    return tree.data[tree.query_ball_point(point, rad)]"
   ]
  },
  {
   "cell_type": "code",
   "execution_count": 152,
   "metadata": {
    "collapsed": true,
    "scrolled": true
   },
   "outputs": [],
   "source": [
    "\n",
    "dims = np.zeros((len(sphere_plane), num))\n",
    "int_dim = np.zeros(len(sphere_plane))\n",
    "elem_ind = -1 \n",
    "count=0"
   ]
  },
  {
   "cell_type": "code",
   "execution_count": 153,
   "metadata": {},
   "outputs": [
    {
     "data": {
      "text/plain": [
       "758"
      ]
     },
     "execution_count": 153,
     "metadata": {},
     "output_type": "execute_result"
    }
   ],
   "source": [
    "len(sphere_plane)"
   ]
  },
  {
   "cell_type": "code",
   "execution_count": null,
   "metadata": {
    "collapsed": true
   },
   "outputs": [],
   "source": [
    "start = time.clock() \n",
    "    a()\n",
    "    elapsed = time.clock()\n",
    "    elapsed = elapsed - start\n",
    "    print \"Time spent in (function name) is: \", elapsed"
   ]
  },
  {
   "cell_type": "code",
   "execution_count": 213,
   "metadata": {},
   "outputs": [
    {
     "name": "stdout",
     "output_type": "stream",
     "text": [
      "1\n"
     ]
    },
    {
     "ename": "ValueError",
     "evalue": "setting an array element with a sequence.",
     "output_type": "error",
     "traceback": [
      "\u001b[1;31m---------------------------------------------------------------------------\u001b[0m",
      "\u001b[1;31mValueError\u001b[0m                                Traceback (most recent call last)",
      "\u001b[1;32m<ipython-input-213-610191372df4>\u001b[0m in \u001b[0;36m<module>\u001b[1;34m()\u001b[0m\n\u001b[0;32m     48\u001b[0m             \u001b[0mult\u001b[0m\u001b[1;33m=\u001b[0m \u001b[0mtf\u001b[0m\u001b[1;33m.\u001b[0m\u001b[0mcast\u001b[0m\u001b[1;33m(\u001b[0m\u001b[0mult\u001b[0m\u001b[1;33m,\u001b[0m \u001b[0mtf\u001b[0m\u001b[1;33m.\u001b[0m\u001b[0mfloat64\u001b[0m\u001b[1;33m)\u001b[0m\u001b[1;33m\u001b[0m\u001b[0m\n\u001b[0;32m     49\u001b[0m             \u001b[0mCRV_bool\u001b[0m\u001b[1;33m=\u001b[0m\u001b[0mtf\u001b[0m\u001b[1;33m.\u001b[0m\u001b[0msubtract\u001b[0m\u001b[1;33m(\u001b[0m\u001b[0mult\u001b[0m\u001b[1;33m,\u001b[0m\u001b[0mCRV_bool\u001b[0m\u001b[1;33m)\u001b[0m\u001b[1;33m\u001b[0m\u001b[0m\n\u001b[1;32m---> 50\u001b[1;33m             \u001b[0mdims\u001b[0m\u001b[1;33m[\u001b[0m\u001b[0melem_ind\u001b[0m\u001b[1;33m,\u001b[0m \u001b[0mrad_ind\u001b[0m\u001b[1;33m]\u001b[0m \u001b[1;33m=\u001b[0m \u001b[0mnp\u001b[0m\u001b[1;33m.\u001b[0m\u001b[0masarray\u001b[0m\u001b[1;33m(\u001b[0m\u001b[0mCRV_bool\u001b[0m\u001b[1;33m)\u001b[0m\u001b[1;33m\u001b[0m\u001b[0m\n\u001b[0m\u001b[0;32m     51\u001b[0m \u001b[1;33m\u001b[0m\u001b[0m\n\u001b[0;32m     52\u001b[0m \u001b[0melapsed\u001b[0m \u001b[1;33m=\u001b[0m \u001b[0mtime\u001b[0m\u001b[1;33m.\u001b[0m\u001b[0mclock\u001b[0m\u001b[1;33m(\u001b[0m\u001b[1;33m)\u001b[0m\u001b[1;33m\u001b[0m\u001b[0m\n",
      "\u001b[1;31mValueError\u001b[0m: setting an array element with a sequence."
     ]
    }
   ],
   "source": [
    "\n",
    "import time\n",
    "start = time.clock() \n",
    "k=0.95\n",
    "num=5\n",
    "rads = [(1/2.)**(i) for i in range(num)]\n",
    "dims = np.zeros((len(sphere_plane), num))\n",
    "int_dim = np.zeros(len(sphere_plane))\n",
    "elem_ind = -1 \n",
    "count=0\n",
    "\n",
    "for elem in sphere_plane :\n",
    "    count=count+1\n",
    "    print(count)\n",
    "    density = []\n",
    "    elem_ind += 1\n",
    "    rad_ind = -1\n",
    "    for radius in rads :\n",
    "        Dn = neighborhood(sphere_plane, elem, radius)\n",
    "        Dn_tf = tf.convert_to_tensor(Dn)\n",
    "        rad_ind += 1\n",
    "        if len(Dn) < math.log(k*100*math.log(k*100)):\n",
    "#                 print(\"The neighborhood does not have enough points.\")\n",
    "            density.append(0)\n",
    "            dims[elem_ind, rad_ind] = -1\n",
    "        else:\n",
    "            density.append(1)\n",
    "            Dn_len=len(Dn)\n",
    "            #print(Dn_len)\n",
    "            Dn = tf.convert_to_tensor(Dn)\n",
    "            mean, var = tf.nn.moments(Dn, [1], keep_dims=True)\n",
    "            Dn0= tf.subtract(Dn, mean)\n",
    "            scal=(1/(Dn_len-1))**(1/2.)\n",
    "            #print(\"this is scalar\",scal)\n",
    "            Dn0 = tf.scalar_mul(scal,Dn0)\n",
    "            S =tf.svd(Dn0, compute_uv=False)\n",
    "            S_T=tf.transpose(S,perm=None,name='transpose')\n",
    "           # print(tf.shape(S))\n",
    "            S_2 = tf.tensordot(S,S_T,axes=1)\n",
    "            TV=tf.reduce_sum(S_2)\n",
    "            CRV=tf.div(S_2, TV)\n",
    "            k_ten=tf.fill([Dn_len,3], 0.95)\n",
    "            k_ten = tf.cast(k_ten, tf.float64)\n",
    "            CRV_bool=tf.greater_equal(CRV, k_ten)\n",
    "            CRV_bool = tf.cast(CRV_bool, tf.float64)\n",
    "            CRV_bool=tf.reduce_sum(CRV_bool)\n",
    "            ult=tf.fill([Dn_len,3], 4)\n",
    "            ult= tf.cast(ult, tf.float64)\n",
    "            CRV_bool=tf.subtract(ult,CRV_bool)\n",
    "            dims[elem_ind, rad_ind] = np.asarray(CRV_bool)\n",
    "            \n",
    "elapsed = time.clock()\n",
    "elapsed = elapsed - start\n",
    "print (\"Time spent in (function name) is: \", elapsed)"
   ]
  },
  {
   "cell_type": "code",
   "execution_count": 116,
   "metadata": {},
   "outputs": [
    {
     "data": {
      "text/plain": [
       "6.0698558258508974"
      ]
     },
     "execution_count": 116,
     "metadata": {},
     "output_type": "execute_result"
    }
   ],
   "source": [
    "math.log(95*math.log(95))"
   ]
  },
  {
   "cell_type": "code",
   "execution_count": 110,
   "metadata": {
    "collapsed": true
   },
   "outputs": [],
   "source": [
    "import math"
   ]
  },
  {
   "cell_type": "code",
   "execution_count": 14,
   "metadata": {},
   "outputs": [
    {
     "name": "stdout",
     "output_type": "stream",
     "text": [
      "Requirement already satisfied: numpy in d:\\anaconda3\\lib\\site-packages\n",
      "Requirement already satisfied: scipy in d:\\anaconda3\\lib\\site-packages\n",
      "Requirement already satisfied: scikit-learn in d:\\anaconda3\\lib\\site-packages\n",
      "Requirement already satisfied: pillow in d:\\anaconda3\\lib\\site-packages\n",
      "Requirement already satisfied: olefile in d:\\anaconda3\\lib\\site-packages (from pillow)\n",
      "Requirement already satisfied: h5py in d:\\anaconda3\\lib\\site-packages\n",
      "Requirement already satisfied: numpy>=1.7 in d:\\anaconda3\\lib\\site-packages (from h5py)\n",
      "Requirement already satisfied: six in d:\\anaconda3\\lib\\site-packages (from h5py)\n"
     ]
    }
   ],
   "source": [
    "! pip install numpy scipy\n",
    "! pip install scikit-learn\n",
    "! pip install pillow\n",
    "! pip install h5py\n"
   ]
  },
  {
   "cell_type": "code",
   "execution_count": 15,
   "metadata": {},
   "outputs": [
    {
     "name": "stdout",
     "output_type": "stream",
     "text": [
      "Collecting keras\n"
     ]
    },
    {
     "name": "stderr",
     "output_type": "stream",
     "text": [
      "Exception:\n",
      "Traceback (most recent call last):\n",
      "  File \"D:\\Anaconda3\\lib\\site-packages\\pip\\basecommand.py\", line 215, in main\n",
      "    status = self.run(options, args)\n",
      "  File \"D:\\Anaconda3\\lib\\site-packages\\pip\\commands\\install.py\", line 335, in run\n",
      "    wb.build(autobuilding=True)\n",
      "  File \"D:\\Anaconda3\\lib\\site-packages\\pip\\wheel.py\", line 749, in build\n",
      "    self.requirement_set.prepare_files(self.finder)\n",
      "  File \"D:\\Anaconda3\\lib\\site-packages\\pip\\req\\req_set.py\", line 380, in prepare_files\n",
      "    ignore_dependencies=self.ignore_dependencies))\n",
      "  File \"D:\\Anaconda3\\lib\\site-packages\\pip\\req\\req_set.py\", line 554, in _prepare_file\n",
      "    require_hashes\n",
      "  File \"D:\\Anaconda3\\lib\\site-packages\\pip\\req\\req_install.py\", line 278, in populate_link\n",
      "    self.link = finder.find_requirement(self, upgrade)\n",
      "  File \"D:\\Anaconda3\\lib\\site-packages\\pip\\index.py\", line 465, in find_requirement\n",
      "    all_candidates = self.find_all_candidates(req.name)\n",
      "  File \"D:\\Anaconda3\\lib\\site-packages\\pip\\index.py\", line 423, in find_all_candidates\n",
      "    for page in self._get_pages(url_locations, project_name):\n",
      "  File \"D:\\Anaconda3\\lib\\site-packages\\pip\\index.py\", line 568, in _get_pages\n",
      "    page = self._get_page(location)\n",
      "  File \"D:\\Anaconda3\\lib\\site-packages\\pip\\index.py\", line 683, in _get_page\n",
      "    return HTMLPage.get_page(link, session=self.session)\n",
      "  File \"D:\\Anaconda3\\lib\\site-packages\\pip\\index.py\", line 811, in get_page\n",
      "    inst = cls(resp.content, resp.url, resp.headers)\n",
      "  File \"D:\\Anaconda3\\lib\\site-packages\\pip\\index.py\", line 731, in __init__\n",
      "    namespaceHTMLElements=False,\n",
      "TypeError: parse() got an unexpected keyword argument 'transport_encoding'\n"
     ]
    }
   ],
   "source": [
    "\n",
    "\n",
    "!pip install keras\n",
    "\n"
   ]
  },
  {
   "cell_type": "code",
   "execution_count": 19,
   "metadata": {},
   "outputs": [
    {
     "name": "stdout",
     "output_type": "stream",
     "text": [
      "Collecting keras\n"
     ]
    },
    {
     "name": "stderr",
     "output_type": "stream",
     "text": [
      "Exception:\n",
      "Traceback (most recent call last):\n",
      "  File \"D:\\Anaconda3\\lib\\site-packages\\pip\\basecommand.py\", line 215, in main\n",
      "    status = self.run(options, args)\n",
      "  File \"D:\\Anaconda3\\lib\\site-packages\\pip\\commands\\install.py\", line 335, in run\n",
      "    wb.build(autobuilding=True)\n",
      "  File \"D:\\Anaconda3\\lib\\site-packages\\pip\\wheel.py\", line 749, in build\n",
      "    self.requirement_set.prepare_files(self.finder)\n",
      "  File \"D:\\Anaconda3\\lib\\site-packages\\pip\\req\\req_set.py\", line 380, in prepare_files\n",
      "    ignore_dependencies=self.ignore_dependencies))\n",
      "  File \"D:\\Anaconda3\\lib\\site-packages\\pip\\req\\req_set.py\", line 554, in _prepare_file\n",
      "    require_hashes\n",
      "  File \"D:\\Anaconda3\\lib\\site-packages\\pip\\req\\req_install.py\", line 278, in populate_link\n",
      "    self.link = finder.find_requirement(self, upgrade)\n",
      "  File \"D:\\Anaconda3\\lib\\site-packages\\pip\\index.py\", line 465, in find_requirement\n",
      "    all_candidates = self.find_all_candidates(req.name)\n",
      "  File \"D:\\Anaconda3\\lib\\site-packages\\pip\\index.py\", line 423, in find_all_candidates\n",
      "    for page in self._get_pages(url_locations, project_name):\n",
      "  File \"D:\\Anaconda3\\lib\\site-packages\\pip\\index.py\", line 568, in _get_pages\n",
      "    page = self._get_page(location)\n",
      "  File \"D:\\Anaconda3\\lib\\site-packages\\pip\\index.py\", line 683, in _get_page\n",
      "    return HTMLPage.get_page(link, session=self.session)\n",
      "  File \"D:\\Anaconda3\\lib\\site-packages\\pip\\index.py\", line 811, in get_page\n",
      "    inst = cls(resp.content, resp.url, resp.headers)\n",
      "  File \"D:\\Anaconda3\\lib\\site-packages\\pip\\index.py\", line 731, in __init__\n",
      "    namespaceHTMLElements=False,\n",
      "TypeError: parse() got an unexpected keyword argument 'transport_encoding'\n"
     ]
    }
   ],
   "source": [
    "! pip install keras"
   ]
  },
  {
   "cell_type": "code",
   "execution_count": 20,
   "metadata": {},
   "outputs": [
    {
     "name": "stderr",
     "output_type": "stream",
     "text": [
      "Using TensorFlow backend.\n"
     ]
    }
   ],
   "source": [
    "import keras"
   ]
  },
  {
   "cell_type": "code",
   "execution_count": 6,
   "metadata": {},
   "outputs": [
    {
     "name": "stderr",
     "output_type": "stream",
     "text": [
      "Using TensorFlow backend.\n"
     ]
    }
   ],
   "source": [
    "import numpy\n",
    "from keras.datasets import imdb\n",
    "from keras.models import Sequential\n",
    "from keras.layers import Dense\n",
    "from keras.layers import LSTM\n",
    "from keras.layers.embeddings import Embedding\n",
    "from keras.preprocessing import sequence\n",
    "# fix random seed for reproducibility\n",
    "numpy.random.seed(7)"
   ]
  },
  {
   "cell_type": "code",
   "execution_count": null,
   "metadata": {
    "collapsed": true
   },
   "outputs": [],
   "source": []
  }
 ],
 "metadata": {
  "kernelspec": {
   "display_name": "Python 3",
   "language": "python",
   "name": "python3"
  },
  "language_info": {
   "codemirror_mode": {
    "name": "ipython",
    "version": 3
   },
   "file_extension": ".py",
   "mimetype": "text/x-python",
   "name": "python",
   "nbconvert_exporter": "python",
   "pygments_lexer": "ipython3",
   "version": "3.6.1"
  }
 },
 "nbformat": 4,
 "nbformat_minor": 2
}
